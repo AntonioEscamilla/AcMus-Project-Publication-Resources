{
  "nbformat": 4,
  "nbformat_minor": 0,
  "metadata": {
    "colab": {
      "name": "Evaluation_Binary_Beat_Estimation_from_3/4_Beats.ipynb",
      "provenance": [],
      "collapsed_sections": []
    },
    "kernelspec": {
      "name": "python3",
      "display_name": "Python 3"
    }
  },
  "cells": [
    {
      "cell_type": "markdown",
      "metadata": {
        "id": "HTLSpCXvOvaV"
      },
      "source": [
        "# Evaluation of Binary Beat Estimation from Beats in 3/4 obtained by Beat Tracking Algorithms\n",
        "by:\n",
        "\n",
        "Jose R. Zapata and Antonio Escamilla\n",
        "\n",
        "**Project ACMUS:**  https://acmus-mir.github.io/"
      ]
    },
    {
      "cell_type": "markdown",
      "metadata": {
        "id": "WZOuE2qaoOvq"
      },
      "source": [
        "## Installing libraries and import statements"
      ]
    },
    {
      "cell_type": "code",
      "metadata": {
        "id": "efijaf17CDGa",
        "colab": {
          "base_uri": "https://localhost:8080/"
        },
        "outputId": "ed9898ba-6804-4ee1-ff56-dac9079111a3"
      },
      "source": [
        "!python -m pip install madmom -q                                                # Package for beat analysis"
      ],
      "execution_count": 1,
      "outputs": [
        {
          "output_type": "stream",
          "name": "stdout",
          "text": [
            "\u001b[K     |████████████████████████████████| 20.0 MB 1.2 MB/s \n",
            "\u001b[K     |████████████████████████████████| 51 kB 5.8 MB/s \n",
            "\u001b[?25h  Building wheel for madmom (setup.py) ... \u001b[?25l\u001b[?25hdone\n"
          ]
        }
      ]
    },
    {
      "cell_type": "code",
      "metadata": {
        "id": "UFHo3hquOnia"
      },
      "source": [
        "import sys\n",
        "import os\n",
        "import pandas as pd\n",
        "import numpy as np\n",
        "import re\n",
        "import time\n",
        "import matplotlib.pyplot as plt\n",
        "import madmom\n",
        "import madmom.evaluation.beats as be\n",
        "import warnings\n",
        "warnings.filterwarnings('ignore')\n",
        "plt.rcParams[\"figure.figsize\"] =(12,6)"
      ],
      "execution_count": 2,
      "outputs": []
    },
    {
      "cell_type": "markdown",
      "metadata": {
        "id": "4NTlf-R-Tqzs"
      },
      "source": [
        "## Get Generated Beat Data, Audiofiles and Annotations"
      ]
    },
    {
      "cell_type": "markdown",
      "metadata": {
        "id": "wsW-KuOfSYsK"
      },
      "source": [
        "**Download Generated Beat Data from AcMus GDrive:**\n",
        "\n",
        "https://drive.google.com/file/d/1-OoQc0SnH2a5paSyE055NV3BG9cXQIWV/view?usp=sharing\n",
        "\n",
        "**To use wget, we modified the above link as follows:**\n",
        "\n",
        "copy the link provided and replace the `file/d/` with `uc?id=` and replace at the end of the link the `/view?usp=sharing` with `&export=download`. "
      ]
    },
    {
      "cell_type": "code",
      "metadata": {
        "colab": {
          "base_uri": "https://localhost:8080/"
        },
        "id": "oIeB3kPOSR0M",
        "outputId": "d5b85c5c-82b2-482b-df5c-a22e7e9c8aa4"
      },
      "source": [
        "#Download files from GDrive (public access)\n",
        "!wget -O bambucos_generated_beats_compound.zip https://drive.google.com/uc?id=1-OoQc0SnH2a5paSyE055NV3BG9cXQIWV&export=download"
      ],
      "execution_count": 3,
      "outputs": [
        {
          "output_type": "stream",
          "name": "stdout",
          "text": [
            "--2021-09-16 11:15:49--  https://drive.google.com/uc?id=1-OoQc0SnH2a5paSyE055NV3BG9cXQIWV\n",
            "Resolving drive.google.com (drive.google.com)... 172.217.204.139, 172.217.204.138, 172.217.204.101, ...\n",
            "Connecting to drive.google.com (drive.google.com)|172.217.204.139|:443... connected.\n",
            "HTTP request sent, awaiting response... 302 Moved Temporarily\n",
            "Location: https://doc-08-7o-docs.googleusercontent.com/docs/securesc/ha0ro937gcuc7l7deffksulhg5h7mbp1/brob0jn83u1i31p85rsbmiuf4ckfv32i/1631790900000/14014920541761407995/*/1-OoQc0SnH2a5paSyE055NV3BG9cXQIWV [following]\n",
            "Warning: wildcards not supported in HTTP.\n",
            "--2021-09-16 11:15:49--  https://doc-08-7o-docs.googleusercontent.com/docs/securesc/ha0ro937gcuc7l7deffksulhg5h7mbp1/brob0jn83u1i31p85rsbmiuf4ckfv32i/1631790900000/14014920541761407995/*/1-OoQc0SnH2a5paSyE055NV3BG9cXQIWV\n",
            "Resolving doc-08-7o-docs.googleusercontent.com (doc-08-7o-docs.googleusercontent.com)... 173.194.213.132, 2607:f8b0:400c:c0a::84\n",
            "Connecting to doc-08-7o-docs.googleusercontent.com (doc-08-7o-docs.googleusercontent.com)|173.194.213.132|:443... connected.\n",
            "HTTP request sent, awaiting response... 200 OK\n",
            "Length: 22522 (22K) [application/x-zip-compressed]\n",
            "Saving to: ‘bambucos_generated_beats_compound.zip’\n",
            "\n",
            "bambucos_generated_ 100%[===================>]  21.99K  --.-KB/s    in 0.003s  \n",
            "\n",
            "2021-09-16 11:15:49 (8.40 MB/s) - ‘bambucos_generated_beats_compound.zip’ saved [22522/22522]\n",
            "\n"
          ]
        }
      ]
    },
    {
      "cell_type": "code",
      "metadata": {
        "id": "Sgx15PUsSTrj"
      },
      "source": [
        "#Unzip file\n",
        "!unzip -q bambucos_generated_beats_compound.zip -d ./"
      ],
      "execution_count": 4,
      "outputs": []
    },
    {
      "cell_type": "code",
      "metadata": {
        "id": "dXkod9ntneWm"
      },
      "source": [
        "# Directory in GDrive where the generated predictions are saved\n",
        "generated_beats_dir = '/content/bambucos_generated_beats_compound/'             "
      ],
      "execution_count": 5,
      "outputs": []
    },
    {
      "cell_type": "code",
      "metadata": {
        "id": "PfT7Nc5MtBYQ"
      },
      "source": [
        "# Get the list of Files in Folder\n",
        "import glob, os\n",
        "import shutil"
      ],
      "execution_count": 6,
      "outputs": []
    },
    {
      "cell_type": "code",
      "metadata": {
        "id": "jHH6Q-Jwt4QZ"
      },
      "source": [
        "# List all txt files in the folder\n",
        "generated_beats_list = glob.glob(generated_beats_dir + '*.txt')"
      ],
      "execution_count": 7,
      "outputs": []
    },
    {
      "cell_type": "markdown",
      "metadata": {
        "id": "Qy4nRkIUqze2"
      },
      "source": [
        "**Download Audio Files and Annotations from Zenodo:**\n",
        "\n",
        "https://zenodo.org/record/3965447/files/rhythm_set.zip?download=1"
      ]
    },
    {
      "cell_type": "code",
      "metadata": {
        "id": "8Rdljvjdq-R5",
        "colab": {
          "base_uri": "https://localhost:8080/"
        },
        "outputId": "fa3555b7-ef72-4d54-e483-3d208bcd20f8"
      },
      "source": [
        "#Download files from Zenodo\n",
        "!wget -O rhythm_set.zip https://zenodo.org/record/3965447/files/rhythm_set.zip?download=1"
      ],
      "execution_count": 8,
      "outputs": [
        {
          "output_type": "stream",
          "name": "stdout",
          "text": [
            "--2021-09-16 11:15:50--  https://zenodo.org/record/3965447/files/rhythm_set.zip?download=1\n",
            "Resolving zenodo.org (zenodo.org)... 137.138.76.77\n",
            "Connecting to zenodo.org (zenodo.org)|137.138.76.77|:443... connected.\n",
            "HTTP request sent, awaiting response... 200 OK\n",
            "Length: 1843834847 (1.7G) [application/octet-stream]\n",
            "Saving to: ‘rhythm_set.zip’\n",
            "\n",
            "rhythm_set.zip      100%[===================>]   1.72G  23.3MB/s    in 2m 54s  \n",
            "\n",
            "2021-09-16 11:18:46 (10.1 MB/s) - ‘rhythm_set.zip’ saved [1843834847/1843834847]\n",
            "\n"
          ]
        }
      ]
    },
    {
      "cell_type": "code",
      "metadata": {
        "id": "gTMVRzmGq-ej"
      },
      "source": [
        "#Unzip file\n",
        "!unzip -q rhythm_set.zip -d ./rhythm_set"
      ],
      "execution_count": 9,
      "outputs": []
    },
    {
      "cell_type": "markdown",
      "metadata": {
        "id": "1NcRI-vbPGZk"
      },
      "source": [
        "## Get bambucos information"
      ]
    },
    {
      "cell_type": "code",
      "metadata": {
        "id": "PUYtJDfWRmtp"
      },
      "source": [
        "anotations_dir='./rhythm_set/Beat_annotations/'                                 # Anotation files folder"
      ],
      "execution_count": 10,
      "outputs": []
    },
    {
      "cell_type": "code",
      "metadata": {
        "id": "FKvSWm6XVete"
      },
      "source": [
        "bambuco_set = pd.DataFrame(columns=['sample_name','compound_ann', 'generated_beat_file'])"
      ],
      "execution_count": 11,
      "outputs": []
    },
    {
      "cell_type": "code",
      "metadata": {
        "id": "CW9CugEUKAXV"
      },
      "source": [
        "sample_names_list = []\n",
        "for file_name in generated_beats_list:\n",
        "    sample_names_list.append(file_name.split('/')[-1][:-11])                    # Grab sample name from fullpath "
      ],
      "execution_count": 12,
      "outputs": []
    },
    {
      "cell_type": "code",
      "metadata": {
        "id": "SMmXdllDa5_l",
        "colab": {
          "base_uri": "https://localhost:8080/"
        },
        "outputId": "f40a8800-9644-4ecd-f497-41ad8f706014"
      },
      "source": [
        "bambuco_set['sample_name'] = sample_names_list\n",
        "bambuco_set['compound_ann'] = bambuco_set['sample_name'].apply(lambda x: x)+'(1).txt'               # use sample name to complete file name for annotations   \n",
        "bambuco_set['generated_beat_file'] = bambuco_set['sample_name'].apply(lambda x: x)+'_gen(1).txt'    # use sample name to complete file name for generated beats \n",
        "bambuco_set.reset_index(drop=True, inplace = True)\n",
        "print(f'Number of Bambuco Files with generated beats= {len(bambuco_set)}')"
      ],
      "execution_count": 13,
      "outputs": [
        {
          "output_type": "stream",
          "name": "stdout",
          "text": [
            "Number of Bambuco Files with generated beats= 41\n"
          ]
        }
      ]
    },
    {
      "cell_type": "markdown",
      "metadata": {
        "id": "7aPTJ16w1qIa"
      },
      "source": [
        "## Get Ground Truth"
      ]
    },
    {
      "cell_type": "code",
      "metadata": {
        "id": "nn_HttkIBaQW"
      },
      "source": [
        "def read_ann(file):\n",
        "  '''\n",
        "  function to read .txt annotations file\n",
        "  returns numpy array\n",
        "  '''\n",
        "  beatsItt = list()\n",
        "\n",
        "  if 'gen' in file:                                 # if the 'gen' characters are included in the file string\n",
        "    dir = generated_beats_dir                       # use the generated beats folder\n",
        "  else:\n",
        "    dir = anotations_dir                            #if not, use the annotations folder\n",
        "\n",
        "  \n",
        "  with open(os.path.join(dir, file), 'r') as f:\n",
        "    lines= [line.split() for line in f]\n",
        "    for line in lines:\n",
        "      beatsItt.append(np.float32(line[0]))\n",
        "    beatsItt=np.asarray(beatsItt)\n",
        "    return beatsItt"
      ],
      "execution_count": 14,
      "outputs": []
    },
    {
      "cell_type": "code",
      "metadata": {
        "id": "F68TotMG1uEk"
      },
      "source": [
        "bambuco_set['compound_gt'] = bambuco_set['compound_ann'].apply(read_ann)                        # read annotations in txt files and fill the data frame\n",
        "bambuco_set['generated_beats'] = bambuco_set['generated_beat_file'].apply(read_ann)             # read generated beats in txt files and fill the data frame"
      ],
      "execution_count": 15,
      "outputs": []
    },
    {
      "cell_type": "code",
      "metadata": {
        "colab": {
          "base_uri": "https://localhost:8080/",
          "height": 205
        },
        "id": "3ggPLBssEE1R",
        "outputId": "58ad66ec-8f55-471e-ffa4-1ec5fe9c3e87"
      },
      "source": [
        "bambuco_set.head()"
      ],
      "execution_count": 16,
      "outputs": [
        {
          "output_type": "execute_result",
          "data": {
            "text/html": [
              "<div>\n",
              "<style scoped>\n",
              "    .dataframe tbody tr th:only-of-type {\n",
              "        vertical-align: middle;\n",
              "    }\n",
              "\n",
              "    .dataframe tbody tr th {\n",
              "        vertical-align: top;\n",
              "    }\n",
              "\n",
              "    .dataframe thead th {\n",
              "        text-align: right;\n",
              "    }\n",
              "</style>\n",
              "<table border=\"1\" class=\"dataframe\">\n",
              "  <thead>\n",
              "    <tr style=\"text-align: right;\">\n",
              "      <th></th>\n",
              "      <th>sample_name</th>\n",
              "      <th>compound_ann</th>\n",
              "      <th>generated_beat_file</th>\n",
              "      <th>compound_gt</th>\n",
              "      <th>generated_beats</th>\n",
              "    </tr>\n",
              "  </thead>\n",
              "  <tbody>\n",
              "    <tr>\n",
              "      <th>0</th>\n",
              "      <td>rh_0055</td>\n",
              "      <td>rh_0055(1).txt</td>\n",
              "      <td>rh_0055_gen(1).txt</td>\n",
              "      <td>[0.046666667, 0.6346667, 1.2646667, 1.8713334,...</td>\n",
              "      <td>[0.04, 0.655, 1.25, 1.855, 2.44, 3.0349998, 3....</td>\n",
              "    </tr>\n",
              "    <tr>\n",
              "      <th>1</th>\n",
              "      <td>rh_0040</td>\n",
              "      <td>rh_0040(1).txt</td>\n",
              "      <td>rh_0040_gen(1).txt</td>\n",
              "      <td>[0.021333333, 0.49066666, 1.0746666, 1.6, 2.09...</td>\n",
              "      <td>[0.505, 1.03, 1.5550001, 2.07, 2.6, 3.11, 3.62...</td>\n",
              "    </tr>\n",
              "    <tr>\n",
              "      <th>2</th>\n",
              "      <td>rh_0179</td>\n",
              "      <td>rh_0179(1).txt</td>\n",
              "      <td>rh_0179_gen(1).txt</td>\n",
              "      <td>[1.1146667, 1.7670625, 2.4053333, 3.036, 3.595...</td>\n",
              "      <td>[0.505, 1.12, 1.76, 2.37, 2.975, 3.58, 4.185, ...</td>\n",
              "    </tr>\n",
              "    <tr>\n",
              "      <th>3</th>\n",
              "      <td>rh_0177</td>\n",
              "      <td>rh_0177(1).txt</td>\n",
              "      <td>rh_0177_gen(1).txt</td>\n",
              "      <td>[0.39666668, 0.9633333, 1.455, 2.0332603, 2.55...</td>\n",
              "      <td>[0.42, 0.975, 1.5, 2.035, 2.55, 3.065, 3.57, 4...</td>\n",
              "    </tr>\n",
              "    <tr>\n",
              "      <th>4</th>\n",
              "      <td>rh_0046</td>\n",
              "      <td>rh_0046(1).txt</td>\n",
              "      <td>rh_0046_gen(1).txt</td>\n",
              "      <td>[0.10666667, 0.65066665, 1.216, 1.7493334, 2.3...</td>\n",
              "      <td>[0.14, 0.695, 1.23, 1.755, 2.29, 2.8400002, 3....</td>\n",
              "    </tr>\n",
              "  </tbody>\n",
              "</table>\n",
              "</div>"
            ],
            "text/plain": [
              "  sample_name  ...                                    generated_beats\n",
              "0     rh_0055  ...  [0.04, 0.655, 1.25, 1.855, 2.44, 3.0349998, 3....\n",
              "1     rh_0040  ...  [0.505, 1.03, 1.5550001, 2.07, 2.6, 3.11, 3.62...\n",
              "2     rh_0179  ...  [0.505, 1.12, 1.76, 2.37, 2.975, 3.58, 4.185, ...\n",
              "3     rh_0177  ...  [0.42, 0.975, 1.5, 2.035, 2.55, 3.065, 3.57, 4...\n",
              "4     rh_0046  ...  [0.14, 0.695, 1.23, 1.755, 2.29, 2.8400002, 3....\n",
              "\n",
              "[5 rows x 5 columns]"
            ]
          },
          "metadata": {},
          "execution_count": 16
        }
      ]
    },
    {
      "cell_type": "markdown",
      "metadata": {
        "id": "d3LTwHQ0rsFk"
      },
      "source": [
        "## Beat Evaluation\n"
      ]
    },
    {
      "cell_type": "markdown",
      "metadata": {
        "id": "zv1mNMSoBlEW"
      },
      "source": [
        "### Madmom Evaluation\n"
      ]
    },
    {
      "cell_type": "code",
      "metadata": {
        "id": "4fR7Y1smBvtl"
      },
      "source": [
        "Rhythm_madmom = pd.DataFrame(columns=['sample_name'])               # create a new df with the 'sample name' \n",
        "Rhythm_madmom['sample_name'] = bambuco_set['sample_name']           # column from the 'bambuco_set' df\n",
        "\n",
        "# Create columns by evaluation metrics\n",
        "Rhythm_madmom['fmeasure']=''\n",
        "Rhythm_madmom['amlc']=''\n",
        "Rhythm_madmom['amlt']=''\n",
        "Rhythm_madmom['cmlc']=''\n",
        "Rhythm_madmom['cmlt']=''\n",
        "Rhythm_madmom['Eval'] =''"
      ],
      "execution_count": 17,
      "outputs": []
    },
    {
      "cell_type": "code",
      "metadata": {
        "id": "1UKqir40CHVu"
      },
      "source": [
        "for n, file in bambuco_set.iterrows():\n",
        "  Rhythm_madmom['Eval'][n] = be.BeatEvaluation(file['generated_beats'], file['compound_gt'])    # run madmom evaluation using generated beats and compound ground truth\n",
        "  Rhythm_madmom['fmeasure'][n]= Rhythm_madmom['Eval'][n].fmeasure*100                           # fill in all evaluation metrics\n",
        "  Rhythm_madmom['amlc'][n]= Rhythm_madmom['Eval'][n].amlc*100\n",
        "  Rhythm_madmom['amlt'][n]= Rhythm_madmom['Eval'][n].amlt*100\n",
        "  Rhythm_madmom['cmlc'][n]= Rhythm_madmom['Eval'][n].cmlc*100\n",
        "  Rhythm_madmom['cmlt'][n]= Rhythm_madmom['Eval'][n].cmlt*100"
      ],
      "execution_count": 23,
      "outputs": []
    },
    {
      "cell_type": "code",
      "metadata": {
        "id": "qeU-4W05CQMY"
      },
      "source": [
        "Rhythm_madmom[['fmeasure','amlc', 'amlt', 'cmlc', 'cmlt']] = Rhythm_madmom[['fmeasure', 'amlc', 'amlt', 'cmlc', 'cmlt']].apply(pd.to_numeric)"
      ],
      "execution_count": 24,
      "outputs": []
    },
    {
      "cell_type": "markdown",
      "metadata": {
        "id": "D57V0yNqCflH"
      },
      "source": [
        "### Results\n"
      ]
    },
    {
      "cell_type": "code",
      "metadata": {
        "id": "sk4HJfiECmr3",
        "colab": {
          "base_uri": "https://localhost:8080/",
          "height": 1000
        },
        "outputId": "6e9f52ab-7d2b-45e5-f85d-eaaf05eac00e"
      },
      "source": [
        "colu = ['fmeasure', 'amlc', 'amlt', 'cmlc', 'cmlt']\n",
        "display(Rhythm_madmom[colu])"
      ],
      "execution_count": 25,
      "outputs": [
        {
          "output_type": "display_data",
          "data": {
            "text/html": [
              "<div>\n",
              "<style scoped>\n",
              "    .dataframe tbody tr th:only-of-type {\n",
              "        vertical-align: middle;\n",
              "    }\n",
              "\n",
              "    .dataframe tbody tr th {\n",
              "        vertical-align: top;\n",
              "    }\n",
              "\n",
              "    .dataframe thead th {\n",
              "        text-align: right;\n",
              "    }\n",
              "</style>\n",
              "<table border=\"1\" class=\"dataframe\">\n",
              "  <thead>\n",
              "    <tr style=\"text-align: right;\">\n",
              "      <th></th>\n",
              "      <th>fmeasure</th>\n",
              "      <th>amlc</th>\n",
              "      <th>amlt</th>\n",
              "      <th>cmlc</th>\n",
              "      <th>cmlt</th>\n",
              "    </tr>\n",
              "  </thead>\n",
              "  <tbody>\n",
              "    <tr>\n",
              "      <th>0</th>\n",
              "      <td>96.969697</td>\n",
              "      <td>94.117647</td>\n",
              "      <td>94.117647</td>\n",
              "      <td>94.117647</td>\n",
              "      <td>94.117647</td>\n",
              "    </tr>\n",
              "    <tr>\n",
              "      <th>1</th>\n",
              "      <td>99.082569</td>\n",
              "      <td>98.181818</td>\n",
              "      <td>98.181818</td>\n",
              "      <td>98.181818</td>\n",
              "      <td>98.181818</td>\n",
              "    </tr>\n",
              "    <tr>\n",
              "      <th>2</th>\n",
              "      <td>76.470588</td>\n",
              "      <td>83.333333</td>\n",
              "      <td>83.333333</td>\n",
              "      <td>83.333333</td>\n",
              "      <td>83.333333</td>\n",
              "    </tr>\n",
              "    <tr>\n",
              "      <th>3</th>\n",
              "      <td>100.000000</td>\n",
              "      <td>100.000000</td>\n",
              "      <td>100.000000</td>\n",
              "      <td>100.000000</td>\n",
              "      <td>100.000000</td>\n",
              "    </tr>\n",
              "    <tr>\n",
              "      <th>4</th>\n",
              "      <td>100.000000</td>\n",
              "      <td>100.000000</td>\n",
              "      <td>100.000000</td>\n",
              "      <td>100.000000</td>\n",
              "      <td>100.000000</td>\n",
              "    </tr>\n",
              "    <tr>\n",
              "      <th>5</th>\n",
              "      <td>98.412698</td>\n",
              "      <td>96.875000</td>\n",
              "      <td>96.875000</td>\n",
              "      <td>96.875000</td>\n",
              "      <td>96.875000</td>\n",
              "    </tr>\n",
              "    <tr>\n",
              "      <th>6</th>\n",
              "      <td>100.000000</td>\n",
              "      <td>100.000000</td>\n",
              "      <td>100.000000</td>\n",
              "      <td>100.000000</td>\n",
              "      <td>100.000000</td>\n",
              "    </tr>\n",
              "    <tr>\n",
              "      <th>7</th>\n",
              "      <td>100.000000</td>\n",
              "      <td>100.000000</td>\n",
              "      <td>100.000000</td>\n",
              "      <td>100.000000</td>\n",
              "      <td>100.000000</td>\n",
              "    </tr>\n",
              "    <tr>\n",
              "      <th>8</th>\n",
              "      <td>95.652174</td>\n",
              "      <td>97.142857</td>\n",
              "      <td>97.142857</td>\n",
              "      <td>97.142857</td>\n",
              "      <td>97.142857</td>\n",
              "    </tr>\n",
              "    <tr>\n",
              "      <th>9</th>\n",
              "      <td>97.142857</td>\n",
              "      <td>100.000000</td>\n",
              "      <td>100.000000</td>\n",
              "      <td>100.000000</td>\n",
              "      <td>100.000000</td>\n",
              "    </tr>\n",
              "    <tr>\n",
              "      <th>10</th>\n",
              "      <td>96.296296</td>\n",
              "      <td>100.000000</td>\n",
              "      <td>100.000000</td>\n",
              "      <td>100.000000</td>\n",
              "      <td>100.000000</td>\n",
              "    </tr>\n",
              "    <tr>\n",
              "      <th>11</th>\n",
              "      <td>97.142857</td>\n",
              "      <td>94.444444</td>\n",
              "      <td>94.444444</td>\n",
              "      <td>94.444444</td>\n",
              "      <td>94.444444</td>\n",
              "    </tr>\n",
              "    <tr>\n",
              "      <th>12</th>\n",
              "      <td>100.000000</td>\n",
              "      <td>100.000000</td>\n",
              "      <td>100.000000</td>\n",
              "      <td>100.000000</td>\n",
              "      <td>100.000000</td>\n",
              "    </tr>\n",
              "    <tr>\n",
              "      <th>13</th>\n",
              "      <td>98.507463</td>\n",
              "      <td>97.058824</td>\n",
              "      <td>97.058824</td>\n",
              "      <td>97.058824</td>\n",
              "      <td>97.058824</td>\n",
              "    </tr>\n",
              "    <tr>\n",
              "      <th>14</th>\n",
              "      <td>100.000000</td>\n",
              "      <td>100.000000</td>\n",
              "      <td>100.000000</td>\n",
              "      <td>100.000000</td>\n",
              "      <td>100.000000</td>\n",
              "    </tr>\n",
              "    <tr>\n",
              "      <th>15</th>\n",
              "      <td>98.412698</td>\n",
              "      <td>96.875000</td>\n",
              "      <td>96.875000</td>\n",
              "      <td>96.875000</td>\n",
              "      <td>96.875000</td>\n",
              "    </tr>\n",
              "    <tr>\n",
              "      <th>16</th>\n",
              "      <td>94.444444</td>\n",
              "      <td>50.000000</td>\n",
              "      <td>94.444444</td>\n",
              "      <td>50.000000</td>\n",
              "      <td>94.444444</td>\n",
              "    </tr>\n",
              "    <tr>\n",
              "      <th>17</th>\n",
              "      <td>96.000000</td>\n",
              "      <td>97.368421</td>\n",
              "      <td>97.368421</td>\n",
              "      <td>97.368421</td>\n",
              "      <td>97.368421</td>\n",
              "    </tr>\n",
              "    <tr>\n",
              "      <th>18</th>\n",
              "      <td>82.758621</td>\n",
              "      <td>73.333333</td>\n",
              "      <td>73.333333</td>\n",
              "      <td>73.333333</td>\n",
              "      <td>73.333333</td>\n",
              "    </tr>\n",
              "    <tr>\n",
              "      <th>19</th>\n",
              "      <td>91.891892</td>\n",
              "      <td>84.210526</td>\n",
              "      <td>84.210526</td>\n",
              "      <td>84.210526</td>\n",
              "      <td>84.210526</td>\n",
              "    </tr>\n",
              "    <tr>\n",
              "      <th>20</th>\n",
              "      <td>96.774194</td>\n",
              "      <td>96.774194</td>\n",
              "      <td>96.774194</td>\n",
              "      <td>96.774194</td>\n",
              "      <td>96.774194</td>\n",
              "    </tr>\n",
              "    <tr>\n",
              "      <th>21</th>\n",
              "      <td>96.842105</td>\n",
              "      <td>97.916667</td>\n",
              "      <td>97.916667</td>\n",
              "      <td>97.916667</td>\n",
              "      <td>97.916667</td>\n",
              "    </tr>\n",
              "    <tr>\n",
              "      <th>22</th>\n",
              "      <td>100.000000</td>\n",
              "      <td>86.666667</td>\n",
              "      <td>96.666667</td>\n",
              "      <td>86.666667</td>\n",
              "      <td>96.666667</td>\n",
              "    </tr>\n",
              "    <tr>\n",
              "      <th>23</th>\n",
              "      <td>77.777778</td>\n",
              "      <td>78.947368</td>\n",
              "      <td>78.947368</td>\n",
              "      <td>78.947368</td>\n",
              "      <td>78.947368</td>\n",
              "    </tr>\n",
              "    <tr>\n",
              "      <th>24</th>\n",
              "      <td>52.459016</td>\n",
              "      <td>54.838710</td>\n",
              "      <td>54.838710</td>\n",
              "      <td>54.838710</td>\n",
              "      <td>54.838710</td>\n",
              "    </tr>\n",
              "    <tr>\n",
              "      <th>25</th>\n",
              "      <td>96.774194</td>\n",
              "      <td>93.750000</td>\n",
              "      <td>93.750000</td>\n",
              "      <td>93.750000</td>\n",
              "      <td>93.750000</td>\n",
              "    </tr>\n",
              "    <tr>\n",
              "      <th>26</th>\n",
              "      <td>98.795181</td>\n",
              "      <td>97.619048</td>\n",
              "      <td>97.619048</td>\n",
              "      <td>97.619048</td>\n",
              "      <td>97.619048</td>\n",
              "    </tr>\n",
              "    <tr>\n",
              "      <th>27</th>\n",
              "      <td>98.412698</td>\n",
              "      <td>96.875000</td>\n",
              "      <td>96.875000</td>\n",
              "      <td>96.875000</td>\n",
              "      <td>96.875000</td>\n",
              "    </tr>\n",
              "    <tr>\n",
              "      <th>28</th>\n",
              "      <td>97.297297</td>\n",
              "      <td>94.736842</td>\n",
              "      <td>94.736842</td>\n",
              "      <td>94.736842</td>\n",
              "      <td>94.736842</td>\n",
              "    </tr>\n",
              "    <tr>\n",
              "      <th>29</th>\n",
              "      <td>67.532468</td>\n",
              "      <td>61.538462</td>\n",
              "      <td>61.538462</td>\n",
              "      <td>61.538462</td>\n",
              "      <td>61.538462</td>\n",
              "    </tr>\n",
              "    <tr>\n",
              "      <th>30</th>\n",
              "      <td>90.476190</td>\n",
              "      <td>100.000000</td>\n",
              "      <td>100.000000</td>\n",
              "      <td>100.000000</td>\n",
              "      <td>100.000000</td>\n",
              "    </tr>\n",
              "    <tr>\n",
              "      <th>31</th>\n",
              "      <td>100.000000</td>\n",
              "      <td>90.909091</td>\n",
              "      <td>98.181818</td>\n",
              "      <td>90.909091</td>\n",
              "      <td>98.181818</td>\n",
              "    </tr>\n",
              "    <tr>\n",
              "      <th>32</th>\n",
              "      <td>81.818182</td>\n",
              "      <td>81.818182</td>\n",
              "      <td>90.909091</td>\n",
              "      <td>81.818182</td>\n",
              "      <td>90.909091</td>\n",
              "    </tr>\n",
              "    <tr>\n",
              "      <th>33</th>\n",
              "      <td>63.333333</td>\n",
              "      <td>36.363636</td>\n",
              "      <td>36.363636</td>\n",
              "      <td>36.363636</td>\n",
              "      <td>36.363636</td>\n",
              "    </tr>\n",
              "    <tr>\n",
              "      <th>34</th>\n",
              "      <td>92.537313</td>\n",
              "      <td>97.058824</td>\n",
              "      <td>97.058824</td>\n",
              "      <td>97.058824</td>\n",
              "      <td>97.058824</td>\n",
              "    </tr>\n",
              "    <tr>\n",
              "      <th>35</th>\n",
              "      <td>85.714286</td>\n",
              "      <td>100.000000</td>\n",
              "      <td>100.000000</td>\n",
              "      <td>100.000000</td>\n",
              "      <td>100.000000</td>\n",
              "    </tr>\n",
              "    <tr>\n",
              "      <th>36</th>\n",
              "      <td>95.652174</td>\n",
              "      <td>98.275862</td>\n",
              "      <td>98.275862</td>\n",
              "      <td>98.275862</td>\n",
              "      <td>98.275862</td>\n",
              "    </tr>\n",
              "    <tr>\n",
              "      <th>37</th>\n",
              "      <td>100.000000</td>\n",
              "      <td>100.000000</td>\n",
              "      <td>100.000000</td>\n",
              "      <td>100.000000</td>\n",
              "      <td>100.000000</td>\n",
              "    </tr>\n",
              "    <tr>\n",
              "      <th>38</th>\n",
              "      <td>75.294118</td>\n",
              "      <td>72.093023</td>\n",
              "      <td>72.093023</td>\n",
              "      <td>72.093023</td>\n",
              "      <td>72.093023</td>\n",
              "    </tr>\n",
              "    <tr>\n",
              "      <th>39</th>\n",
              "      <td>92.307692</td>\n",
              "      <td>72.727273</td>\n",
              "      <td>93.939394</td>\n",
              "      <td>72.727273</td>\n",
              "      <td>93.939394</td>\n",
              "    </tr>\n",
              "    <tr>\n",
              "      <th>40</th>\n",
              "      <td>98.591549</td>\n",
              "      <td>55.555556</td>\n",
              "      <td>91.666667</td>\n",
              "      <td>55.555556</td>\n",
              "      <td>91.666667</td>\n",
              "    </tr>\n",
              "  </tbody>\n",
              "</table>\n",
              "</div>"
            ],
            "text/plain": [
              "      fmeasure        amlc        amlt        cmlc        cmlt\n",
              "0    96.969697   94.117647   94.117647   94.117647   94.117647\n",
              "1    99.082569   98.181818   98.181818   98.181818   98.181818\n",
              "2    76.470588   83.333333   83.333333   83.333333   83.333333\n",
              "3   100.000000  100.000000  100.000000  100.000000  100.000000\n",
              "4   100.000000  100.000000  100.000000  100.000000  100.000000\n",
              "5    98.412698   96.875000   96.875000   96.875000   96.875000\n",
              "6   100.000000  100.000000  100.000000  100.000000  100.000000\n",
              "7   100.000000  100.000000  100.000000  100.000000  100.000000\n",
              "8    95.652174   97.142857   97.142857   97.142857   97.142857\n",
              "9    97.142857  100.000000  100.000000  100.000000  100.000000\n",
              "10   96.296296  100.000000  100.000000  100.000000  100.000000\n",
              "11   97.142857   94.444444   94.444444   94.444444   94.444444\n",
              "12  100.000000  100.000000  100.000000  100.000000  100.000000\n",
              "13   98.507463   97.058824   97.058824   97.058824   97.058824\n",
              "14  100.000000  100.000000  100.000000  100.000000  100.000000\n",
              "15   98.412698   96.875000   96.875000   96.875000   96.875000\n",
              "16   94.444444   50.000000   94.444444   50.000000   94.444444\n",
              "17   96.000000   97.368421   97.368421   97.368421   97.368421\n",
              "18   82.758621   73.333333   73.333333   73.333333   73.333333\n",
              "19   91.891892   84.210526   84.210526   84.210526   84.210526\n",
              "20   96.774194   96.774194   96.774194   96.774194   96.774194\n",
              "21   96.842105   97.916667   97.916667   97.916667   97.916667\n",
              "22  100.000000   86.666667   96.666667   86.666667   96.666667\n",
              "23   77.777778   78.947368   78.947368   78.947368   78.947368\n",
              "24   52.459016   54.838710   54.838710   54.838710   54.838710\n",
              "25   96.774194   93.750000   93.750000   93.750000   93.750000\n",
              "26   98.795181   97.619048   97.619048   97.619048   97.619048\n",
              "27   98.412698   96.875000   96.875000   96.875000   96.875000\n",
              "28   97.297297   94.736842   94.736842   94.736842   94.736842\n",
              "29   67.532468   61.538462   61.538462   61.538462   61.538462\n",
              "30   90.476190  100.000000  100.000000  100.000000  100.000000\n",
              "31  100.000000   90.909091   98.181818   90.909091   98.181818\n",
              "32   81.818182   81.818182   90.909091   81.818182   90.909091\n",
              "33   63.333333   36.363636   36.363636   36.363636   36.363636\n",
              "34   92.537313   97.058824   97.058824   97.058824   97.058824\n",
              "35   85.714286  100.000000  100.000000  100.000000  100.000000\n",
              "36   95.652174   98.275862   98.275862   98.275862   98.275862\n",
              "37  100.000000  100.000000  100.000000  100.000000  100.000000\n",
              "38   75.294118   72.093023   72.093023   72.093023   72.093023\n",
              "39   92.307692   72.727273   93.939394   72.727273   93.939394\n",
              "40   98.591549   55.555556   91.666667   55.555556   91.666667"
            ]
          },
          "metadata": {}
        }
      ]
    },
    {
      "cell_type": "code",
      "metadata": {
        "colab": {
          "base_uri": "https://localhost:8080/",
          "height": 299
        },
        "id": "SnCXJZ0B5Bdy",
        "outputId": "38374e34-a8e9-4cba-a94c-25bfd61c7e8b"
      },
      "source": [
        "Rhythm_madmom[colu].describe()"
      ],
      "execution_count": 26,
      "outputs": [
        {
          "output_type": "execute_result",
          "data": {
            "text/html": [
              "<div>\n",
              "<style scoped>\n",
              "    .dataframe tbody tr th:only-of-type {\n",
              "        vertical-align: middle;\n",
              "    }\n",
              "\n",
              "    .dataframe tbody tr th {\n",
              "        vertical-align: top;\n",
              "    }\n",
              "\n",
              "    .dataframe thead th {\n",
              "        text-align: right;\n",
              "    }\n",
              "</style>\n",
              "<table border=\"1\" class=\"dataframe\">\n",
              "  <thead>\n",
              "    <tr style=\"text-align: right;\">\n",
              "      <th></th>\n",
              "      <th>fmeasure</th>\n",
              "      <th>amlc</th>\n",
              "      <th>amlt</th>\n",
              "      <th>cmlc</th>\n",
              "      <th>cmlt</th>\n",
              "    </tr>\n",
              "  </thead>\n",
              "  <tbody>\n",
              "    <tr>\n",
              "      <th>count</th>\n",
              "      <td>41.000000</td>\n",
              "      <td>41.000000</td>\n",
              "      <td>41.000000</td>\n",
              "      <td>41.000000</td>\n",
              "      <td>41.000000</td>\n",
              "    </tr>\n",
              "    <tr>\n",
              "      <th>mean</th>\n",
              "      <td>92.135966</td>\n",
              "      <td>88.473307</td>\n",
              "      <td>91.598461</td>\n",
              "      <td>88.473307</td>\n",
              "      <td>91.598461</td>\n",
              "    </tr>\n",
              "    <tr>\n",
              "      <th>std</th>\n",
              "      <td>11.247544</td>\n",
              "      <td>16.287954</td>\n",
              "      <td>13.774359</td>\n",
              "      <td>16.287954</td>\n",
              "      <td>13.774359</td>\n",
              "    </tr>\n",
              "    <tr>\n",
              "      <th>min</th>\n",
              "      <td>52.459016</td>\n",
              "      <td>36.363636</td>\n",
              "      <td>36.363636</td>\n",
              "      <td>36.363636</td>\n",
              "      <td>36.363636</td>\n",
              "    </tr>\n",
              "    <tr>\n",
              "      <th>25%</th>\n",
              "      <td>91.891892</td>\n",
              "      <td>83.333333</td>\n",
              "      <td>93.750000</td>\n",
              "      <td>83.333333</td>\n",
              "      <td>93.750000</td>\n",
              "    </tr>\n",
              "    <tr>\n",
              "      <th>50%</th>\n",
              "      <td>96.842105</td>\n",
              "      <td>96.875000</td>\n",
              "      <td>96.875000</td>\n",
              "      <td>96.875000</td>\n",
              "      <td>96.875000</td>\n",
              "    </tr>\n",
              "    <tr>\n",
              "      <th>75%</th>\n",
              "      <td>98.795181</td>\n",
              "      <td>100.000000</td>\n",
              "      <td>100.000000</td>\n",
              "      <td>100.000000</td>\n",
              "      <td>100.000000</td>\n",
              "    </tr>\n",
              "    <tr>\n",
              "      <th>max</th>\n",
              "      <td>100.000000</td>\n",
              "      <td>100.000000</td>\n",
              "      <td>100.000000</td>\n",
              "      <td>100.000000</td>\n",
              "      <td>100.000000</td>\n",
              "    </tr>\n",
              "  </tbody>\n",
              "</table>\n",
              "</div>"
            ],
            "text/plain": [
              "         fmeasure        amlc        amlt        cmlc        cmlt\n",
              "count   41.000000   41.000000   41.000000   41.000000   41.000000\n",
              "mean    92.135966   88.473307   91.598461   88.473307   91.598461\n",
              "std     11.247544   16.287954   13.774359   16.287954   13.774359\n",
              "min     52.459016   36.363636   36.363636   36.363636   36.363636\n",
              "25%     91.891892   83.333333   93.750000   83.333333   93.750000\n",
              "50%     96.842105   96.875000   96.875000   96.875000   96.875000\n",
              "75%     98.795181  100.000000  100.000000  100.000000  100.000000\n",
              "max    100.000000  100.000000  100.000000  100.000000  100.000000"
            ]
          },
          "metadata": {},
          "execution_count": 26
        }
      ]
    },
    {
      "cell_type": "markdown",
      "metadata": {
        "id": "Qlm5q_qNcJb4"
      },
      "source": [
        "#### Boxplot\n"
      ]
    },
    {
      "cell_type": "code",
      "metadata": {
        "id": "UZnMyVaLYMDw",
        "colab": {
          "base_uri": "https://localhost:8080/",
          "height": 390
        },
        "outputId": "bad6e9fd-81c1-42c6-900e-7dffe0084540"
      },
      "source": [
        "plt.rcParams[\"figure.figsize\"] =(12,6) \n",
        "Rhythm_madmom[colu].boxplot()\n",
        "plt.title('Madmom Compound Metric Results');"
      ],
      "execution_count": 27,
      "outputs": [
        {
          "output_type": "display_data",
          "data": {
            "image/png": "[encoded data removed]",
            "text/plain": [
              "<Figure size 864x432 with 1 Axes>"
            ]
          },
          "metadata": {
            "needs_background": "light"
          }
        }
      ]
    }
  ]
}